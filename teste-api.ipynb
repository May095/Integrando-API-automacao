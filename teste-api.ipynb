{
 "cells": [
  {
   "cell_type": "code",
   "execution_count": 19,
   "id": "b714fb34",
   "metadata": {},
   "outputs": [],
   "source": [
    "#importando as bibliotecas necessarias para o desafio\n",
    "import pandas as pd\n",
    "import requests\n",
    "import json\n"
   ]
  },
  {
   "cell_type": "code",
   "execution_count": 32,
   "id": "3a5678d1",
   "metadata": {},
   "outputs": [
    {
     "name": "stdout",
     "output_type": "stream",
     "text": [
      "  cotacoes    VALOR\n",
      "0    Dolar   5.9091\n",
      "1     Euro  6.43915\n",
      "2  Bitcoin   466368\n"
     ]
    },
    {
     "name": "stderr",
     "output_type": "stream",
     "text": [
      "c:\\Users\\40418761\\Documents\\Estudos\\estudos-python\\automação-API\\.venv\\Lib\\site-packages\\urllib3\\connectionpool.py:1097: InsecureRequestWarning: Unverified HTTPS request is being made to host 'economia.awesomeapi.com.br'. Adding certificate verification is strongly advised. See: https://urllib3.readthedocs.io/en/latest/advanced-usage.html#tls-warnings\n",
      "  warnings.warn(\n"
     ]
    }
   ],
   "source": [
    "#adicionando uma URL em uma variavel\n",
    "cotacoes = requests.get(\"https://economia.awesomeapi.com.br/last/USD-BRL,EUR-BRL,BTC-BRL\", verify=False)\n",
    "\n",
    "#mostrando para a linguagem entender o JSON\n",
    "cotacoes = cotacoes.json()\n",
    "\n",
    "#moedas que quero a cotação\n",
    "cotacao_dolar = cotacoes['USDBRL']['bid']\n",
    "cotacao_euro = cotacoes['EURBRL']['bid']\n",
    "cotacao_bitcoin = cotacoes['BTCBRL']['bid']\n",
    "\n",
    "#criando o DataFrame\n",
    "df = pd.DataFrame({\n",
    "    'cotacoes': ['Dolar', 'Euro', 'Bitcoin'],\n",
    "    'VALOR': [cotacao_dolar, cotacao_euro, cotacao_bitcoin]})\n",
    "\n",
    "#Exibindo o resultado da variavel da pesquisa com DF pronto\n",
    "print(df)\n",
    "\n",
    "\n"
   ]
  }
 ],
 "metadata": {
  "kernelspec": {
   "display_name": ".venv",
   "language": "python",
   "name": "python3"
  },
  "language_info": {
   "codemirror_mode": {
    "name": "ipython",
    "version": 3
   },
   "file_extension": ".py",
   "mimetype": "text/x-python",
   "name": "python",
   "nbconvert_exporter": "python",
   "pygments_lexer": "ipython3",
   "version": "3.12.1"
  }
 },
 "nbformat": 4,
 "nbformat_minor": 5
}
